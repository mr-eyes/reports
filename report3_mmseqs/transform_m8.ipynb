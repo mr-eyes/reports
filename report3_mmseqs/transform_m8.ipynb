{
 "cells": [
  {
   "cell_type": "markdown",
   "metadata": {},
   "source": [
    "# Transform M8 and annotate sequences\n",
    "## This notebook transforms the MMseqs M8 result of mapping all the swissprot species on Human.\n",
    "\n",
    "**Description:**\n",
    "1. Download swssprot sequences.\n",
    "2. Extract the mammalian sequences.\n",
    "3. Extract the mammalian sequences WithOut human.\n",
    "4. Select the best human hit for every species.\n",
    "5. Annotate and write a new Fasta file with the AG field *(Annotation Group)*.\n",
    "6. Draw a histogram of the best hits percentage identities."
   ]
  },
  {
   "cell_type": "markdown",
   "metadata": {},
   "source": [
    "```bash\n",
    "wget ftp://ftp.uniprot.org/pub/databases/uniprot/current_release/knowledgebase/complete/uniprot_sprot.fasta.gz\n",
    "```"
   ]
  },
  {
   "cell_type": "code",
   "execution_count": 8,
   "metadata": {},
   "outputs": [],
   "source": [
    "%%bash\n",
    "\n",
    "# Swissprot mammalian only\n",
    "cat uniprot_sprot.fasta | grep -w -f mammalian_taxas.txt | cut -c 2- > mammalian_headers.txt\n",
    "cat uniprot_sprot.fasta | seqkit grep -n -f mammalian_headers.txt > swissprot_mammalian.fa\n",
    "\n",
    "# Mammalian without human\n",
    "cat swissprot_mammalian.fa | seqkit grep -n -r -p \"OX=9606\\s\" -v > swissprot_mammalian_wo_human.fa"
   ]
  },
  {
   "cell_type": "code",
   "execution_count": 1,
   "metadata": {},
   "outputs": [],
   "source": [
    "\"\"\"\n",
    "Annotating swissProt sequences by the m8 MMseqs2 output file                                      #\n",
    "\n",
    "[0]query [1]target [2]pident [3]alnlen [4]mismatch [5]gapopen [6]qstart [7]qend [8]tstart [9]tend [10]evalue [11]bits \n",
    "P62807\tQ6ZWY9\t1.000\t126\t0\t0\t1\t126\t1\t126\t3.978E-71\t236\n",
    "P62807\tQ5R893\t1.000\t126\t0\t0\t1\t126\t1\t126\t3.978E-71\t236\n",
    "\"\"\"\n",
    "\n",
    "from itertools import groupby\n",
    "import textwrap\n",
    "import sys"
   ]
  },
  {
   "cell_type": "code",
   "execution_count": 2,
   "metadata": {},
   "outputs": [],
   "source": [
    "m8_file = \"result.m8\"\n",
    "fasta_file = \"swissprot_mammalian_wo_human.fa\"\n",
    "\n",
    "species_to_human = dict()\n",
    "species_to_AG = dict()\n",
    "pair_to_pident = dict()"
   ]
  },
  {
   "cell_type": "code",
   "execution_count": 3,
   "metadata": {},
   "outputs": [],
   "source": [
    "def fasta_iter(fasta_name):\n",
    "    \"\"\"\n",
    "    Thanks to https://www.biostars.org/p/710\n",
    "    given a fasta file. yield tuples of header, sequence\n",
    "    \"\"\"\n",
    "    fh = open(fasta_name, 'r')\n",
    "    # ditch the boolean (x[0]) and just keep the header or sequence since\n",
    "    # we know they alternate.\n",
    "    faiter = (x[1] for x in groupby(fh, lambda line: line[0] == \">\"))\n",
    "    for header in faiter:\n",
    "        header = next(header)[1:].strip()\n",
    "        seq = \"\".join(s.strip() for s in next(faiter))\n",
    "        yield header, seq"
   ]
  },
  {
   "cell_type": "code",
   "execution_count": 4,
   "metadata": {},
   "outputs": [],
   "source": [
    "# Parsing\n",
    "with open(m8_file, 'r') as m8:\n",
    "    for line in m8:\n",
    "        line = line.strip().split()\n",
    "        human = line[0]\n",
    "        species = line[1]\n",
    "        evalue = float(line[10])\n",
    "        pident = float(line[2])\n",
    "        pair_to_pident[(human,species)] = pident\n",
    "        if species not in species_to_human:\n",
    "            species_to_human[species] = dict()\n",
    "                    \n",
    "        species_to_human[species][human] = evalue"
   ]
  },
  {
   "cell_type": "code",
   "execution_count": 5,
   "metadata": {},
   "outputs": [],
   "source": [
    "for species, human_scores in species_to_human.items():\n",
    "    species_to_AG[species] = min(human_scores, key=human_scores.get)"
   ]
  },
  {
   "cell_type": "code",
   "execution_count": 6,
   "metadata": {},
   "outputs": [],
   "source": [
    "# Rewriting\n",
    "with open(f\"annotated_{fasta_file}\", 'w') as new_fasta:\n",
    "    for header, seq in fasta_iter(fasta_file):\n",
    "        species_seqID = header.split('|')[1]\n",
    "        best_humanGene = species_to_AG.get(species_seqID, \"NaN\")\n",
    "        header += f\"AG={best_humanGene}\"\n",
    "        new_fasta.write('>' + header + '\\n')\n",
    "        new_fasta.write(textwrap.fill(seq, 60) + '\\n')"
   ]
  },
  {
   "cell_type": "code",
   "execution_count": 7,
   "metadata": {},
   "outputs": [],
   "source": [
    "import seaborn as sns\n",
    "import matplotlib.pyplot as plt"
   ]
  },
  {
   "cell_type": "code",
   "execution_count": 8,
   "metadata": {},
   "outputs": [],
   "source": [
    "species_to_pident_histo = list()\n",
    "for species, AG in species_to_AG.items():\n",
    "    pident = pair_to_pident[(AG,species)]\n",
    "    species_to_pident_histo.append(pident)"
   ]
  },
  {
   "cell_type": "code",
   "execution_count": 11,
   "metadata": {},
   "outputs": [],
   "source": [
    "sns.set(color_codes=True)"
   ]
  },
  {
   "cell_type": "code",
   "execution_count": 12,
   "metadata": {},
   "outputs": [
    {
     "data": {
      "text/plain": [
       "<matplotlib.axes._subplots.AxesSubplot at 0x7f1c42821ef0>"
      ]
     },
     "execution_count": 12,
     "metadata": {},
     "output_type": "execute_result"
    },
    {
     "data": {
      "image/png": "[encoded data removed]",
      "text/plain": [
       "<Figure size 432x288 with 1 Axes>"
      ]
     },
     "metadata": {},
     "output_type": "display_data"
    }
   ],
   "source": [
    "sns.distplot(species_to_pident_histo)"
   ]
  }
 ],
 "metadata": {
  "kernelspec": {
   "display_name": "Python 3",
   "language": "python",
   "name": "python3"
  },
  "language_info": {
   "codemirror_mode": {
    "name": "ipython",
    "version": 3
   },
   "file_extension": ".py",
   "mimetype": "text/x-python",
   "name": "python",
   "nbconvert_exporter": "python",
   "pygments_lexer": "ipython3",
   "version": "3.6.9"
  }
 },
 "nbformat": 4,
 "nbformat_minor": 2
}
