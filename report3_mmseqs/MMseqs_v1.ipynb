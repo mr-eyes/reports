{
 "cells": [
  {
   "cell_type": "markdown",
   "metadata": {},
   "source": [
    "# **Data preparation**"
   ]
  },
  {
   "cell_type": "code",
   "execution_count": null,
   "metadata": {},
   "outputs": [],
   "source": [
    "! wget ftp://ftp.uniprot.org/pub/databases/uniprot/current_release/knowledgebase/complete/uniprot_sprot.fasta.gz"
   ]
  },
  {
   "cell_type": "code",
   "execution_count": 4,
   "metadata": {},
   "outputs": [
    {
     "name": "stdout",
     "output_type": "stream",
     "text": [
      "Total: 561568\n",
      "Mouse: 17027\n",
      "Human: 20367\n",
      "Without_Mouse: 544541\n"
     ]
    }
   ],
   "source": [
    "%%bash\n",
    "\n",
    "total_seqs=$(zcat uniprot_sprot.fasta.gz | grep \">\" | wc -l)\n",
    "\n",
    "# Extract Mouse Only\n",
    "zcat uniprot_sprot.fasta.gz | seqkit grep -n -r -p \"OX=10090\\s\" > swissprot_mouse.fa\n",
    "mouse_seqs=$(cat swissprot_mouse.fa | grep \">\" | wc -l)\n",
    "\n",
    "# Extract Human Only\n",
    "zcat uniprot_sprot.fasta.gz | seqkit grep -n -r -p \"OX=9606\\s\" > swissprot_human.fa\n",
    "human_seqs=$(cat swissprot_human.fa | grep \">\" | wc -l)\n",
    "\n",
    "# Exclude Mouse (-v)\n",
    "zcat uniprot_sprot.fasta.gz | seqkit grep -n -r -p \"OX=10090\\s\" -v > swissprot_without_mouse.fa\n",
    "without_mouse_seqs=$(cat swissprot_without_mouse.fa | grep \">\" | wc -l)\n",
    "\n",
    "echo -e \"Total: ${total_seqs}\\nMouse: ${mouse_seqs}\\nHuman: ${human_seqs}\\nWithout_Mouse: ${without_mouse_seqs}\""
   ]
  },
  {
   "cell_type": "markdown",
   "metadata": {},
   "source": [
    "# MMseqs\n",
    "1. Download and createDB for the whole Swiss-Prot >> **swissprot**\n",
    "2. Filter out the HUMAN sequences >> **swissprot_only_human**\n",
    "3. Filter out all the species **without** HUMAN sequences >> **swissprot_wo_human**\n",
    "4. Query the **swissprot_wo_human** on **swissprot_only_human** with sensitivity of 7 (very sensitive) >> **aln_res**\n",
    "5. Generate the alignment results in a tabular format.\n",
    "\n",
    "---\n",
    "### **Options**\n",
    "- `-s [float] Target sensitivity in the range [1:7.5] (default=5.7).`\n",
    "    - Adjusts the sensitivity of the prefiltering and influences the prefiltering run time. 1.0 fastest - 8.5 sensitive. The sensitivity between 8 to 8.5 should be as sensitive as BLAST\n",
    "-  `-a` for alignment information\n",
    "\n",
    "---\n",
    "\n",
    "### **Output Format**\n",
    "(1,2) identifiers for query and target sequences/profiles, (3) sequence identity, (4) alignment length, (5) number of mismatches, (6) number of gap openings, (7-8, 9-10) domain start and end-position in query and in target, (11) E-value, and (12) bit score.\n"
   ]
  },
  {
   "cell_type": "markdown",
   "metadata": {},
   "source": [
    "### **Commands**\n",
    "\n",
    "```bash\n",
    "mmseqs databases UniProtKB/Swiss-Prot swissprot tmp\n",
    "mmseqs filtertaxseqdb swissprot swissprot_only_human --taxon-list \"9606\"\n",
    "mmseqs filtertaxseqdb swissprot swissprot_wo_human --taxon-list \"!9606\"\n",
    "mmseqs search swissprot_only_human swissprot_wo_human aln_res tmp --add-self-matches 1 -s 7 -a\n",
    "mmseqs convertalis swissprot swissprot aln_res result.m8\n",
    "```\n",
    "\n",
    "### **Output head**\n",
    "```tsv\n",
    "query\ttarget\tpident\talnlen\tmismatch\tgapopen\tqstart\tqend\ttstart\ttend\tevalue\tbits\n",
    "P62807\tQ6ZWY9\t1.000\t126\t0\t0\t1\t126\t1\t126\t3.978E-71\t236\n",
    "P62807\tQ5R893\t1.000\t126\t0\t0\t1\t126\t1\t126\t3.978E-71\t236\n",
    "P62807\tP62808\t1.000\t126\t0\t0\t1\t126\t1\t126\t3.978E-71\t236\n",
    "P62807\tQ64478\t0.992\t126\t1\t0\t1\t126\t1\t126\t1.026E-70\t235\n",
    "P62807\tP10854\t0.992\t126\t1\t0\t1\t126\t1\t126\t1.407E-70\t234\n",
    "P62807\tP10853\t0.992\t126\t1\t0\t1\t126\t1\t126\t2.647E-70\t233\n",
    "P62807\tQ2PFX4\t0.984\t126\t2\t0\t1\t126\t1\t126\t3.630E-70\t233\n",
    "P62807\tQ64525\t0.984\t126\t2\t0\t1\t126\t1\t126\t3.630E-70\t233\n",
    "P62807\tQ8CGP1\t0.984\t126\t2\t0\t1\t126\t1\t126\t6.829E-70\t232\n",
    "P62807\tQ5RCP8\t0.984\t126\t2\t0\t1\t126\t1\t126\t6.829E-70\t232\n",
    "```"
   ]
  },
  {
   "cell_type": "code",
   "execution_count": null,
   "metadata": {},
   "outputs": [],
   "source": []
  },
  {
   "cell_type": "markdown",
   "metadata": {},
   "source": [
    "kmer size = read_length / 2\n",
    "\n",
    "Clustering the unitigs (CD-HIT & MMseq), 95%, take the longest unitig as representative (GFA simplification)."
   ]
  }
 ],
 "metadata": {
  "kernelspec": {
   "display_name": "Python 3",
   "language": "python",
   "name": "python3"
  },
  "language_info": {
   "codemirror_mode": {
    "name": "ipython",
    "version": 3
   },
   "file_extension": ".py",
   "mimetype": "text/x-python",
   "name": "python",
   "nbconvert_exporter": "python",
   "pygments_lexer": "ipython3",
   "version": "3.6.9"
  }
 },
 "nbformat": 4,
 "nbformat_minor": 4
}
