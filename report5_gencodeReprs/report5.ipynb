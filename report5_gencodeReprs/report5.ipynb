{
 "cells": [
  {
   "cell_type": "markdown",
   "metadata": {},
   "source": [
    "# Report 5 Summary\n",
    "\n",
    "1. Download representitive sequences from Gencode gencode_repr.fasta\n",
    "2. Perform exact alignment with all the SRR11015356 reads against the gencode_repr.fasta \n",
    "3. Perform exact alignment with the before75_after75 unitigs file against gencode_repr.fasta\n",
    "4. Generate coverage graphs using the two generated bam files from the previous steps\n"
   ]
  }
 ],
 "metadata": {
  "kernelspec": {
   "display_name": "Python 3",
   "language": "python",
   "name": "python3"
  },
  "language_info": {
   "codemirror_mode": {
    "name": "ipython",
    "version": 3
   },
   "file_extension": ".py",
   "mimetype": "text/x-python",
   "name": "python",
   "nbconvert_exporter": "python",
   "pygments_lexer": "ipython3",
   "version": "3.6.9"
  }
 },
 "nbformat": 4,
 "nbformat_minor": 2
}
