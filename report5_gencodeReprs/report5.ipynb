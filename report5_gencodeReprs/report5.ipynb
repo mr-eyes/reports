{
 "cells": [
  {
   "cell_type": "markdown",
   "metadata": {},
   "source": [
    "# **Report 5 Summary**\n",
    "\n",
    "1. Download representitive sequences from Gencode gencode_repr.fasta\n",
    "2. Perform exact alignment with all the SRR11015356 reads against the gencode_repr.fasta \n",
    "3. Perform exact alignment with the before75_after75 unitigs file against gencode_repr.fasta\n",
    "4. Generate coverage graphs using the two generated bam files from the previous steps\n"
   ]
  },
  {
   "cell_type": "markdown",
   "metadata": {},
   "source": [
    "## **1.1 Data Download**"
   ]
  },
  {
   "cell_type": "markdown",
   "metadata": {},
   "source": [
    "```bash\n",
    "mkdir -p data && cd data/\n",
    "\n",
    "#1 Human Transcriptome\n",
    "wget -c ftp://ftp.ebi.ac.uk/pub/databases/gencode/Gencode_human/release_33/gencode.v33.transcripts.fa.gz\n",
    "\n",
    "#2 Basic gene annotation CHR GTF\n",
    "wget -c ftp://ftp.ebi.ac.uk/pub/databases/gencode/Gencode_human/release_33/gencode.v33.basic.annotation.gtf.gz\n",
    "```"
   ]
  },
  {
   "cell_type": "markdown",
   "metadata": {},
   "source": [
    "## **1.2 Representitive sequences extractions**"
   ]
  },
  {
   "cell_type": "markdown",
   "metadata": {},
   "source": [
    "```bash\n",
    "python extract_transcripts_from_gtf.py data/gencode.v33.basic.annotation.gtf data/gencode.v33.transcripts.fa\n",
    "```"
   ]
  },
  {
   "cell_type": "markdown",
   "metadata": {},
   "source": [
    "## 2. Aligning the before75_after75 on the reprs. transcripts **(DIAMOND)**\n",
    "\n",
    "### 2.1 Creating index\n",
    "```bash\n",
    "diamond makedb --in extractedGTF_gencode.v33.transcripts.fa --db extractedGTF_gencode.v33.transcripts\n",
    "## This creates extractedGTF_gencode.v33.transcripts.dmnd\n",
    "```\n",
    "\n",
    "### 2.2 Query\n",
    "```bash\n",
    "export DATA=/home/mabuelanin/Desktop/kexpression_experiment/symbolic/data/drtamer_data\n",
    "\n",
    "```"
   ]
  },
  {
   "cell_type": "code",
   "execution_count": null,
   "metadata": {},
   "outputs": [],
   "source": []
  },
  {
   "cell_type": "markdown",
   "metadata": {},
   "source": [
    "```bash\n",
    "bwa index extractedGTF_gencode.v33.transcripts.fa\n",
    "bwa mem extractedGTF_gencode.v33.transcripts.fa $DATA/reps_unitigs_SRR11015356_beforek75_afterk75.fa.unitigs.fa -t 4 > bwa_mem_aln.sam\n",
    "samtools view -S -b bwa_mem_aln.sam -o bwa_mem_aln.bam\n",
    "samtools sort bwa_mem_aln.bam -o sorted_bwa_mem_aln.bam\n",
    "samtools index sorted_bwa_mem_aln.bam\n",
    "samtools depth sorted_bwa_mem_aln.bam > sorted_bwa_mem_aln.bam.cov\n",
    "cat sorted_bwa_mem_aln.bam.cov | awk -F'\\t' '{print $3}' | sort -n | uniq -c > sorted_bwa_mem_aln.bam.cov.hist\n",
    "```"
   ]
  },
  {
   "cell_type": "markdown",
   "metadata": {},
   "source": [
    "```bash\n",
    "bwa mem extractedGTF_gencode.v33.transcripts.fa $DATA/reps_unitigs_SRR11015356_k75.fa -t 4 > bwa_aln_reps_unitigs_SRR11015356_k75.sam\n",
    "samtools view -S -b bwa_aln_reps_unitigs_SRR11015356_k75.sam -o bwa_aln_reps_unitigs_SRR11015356_k75.bam\n",
    "samtools sort bwa_aln_reps_unitigs_SRR11015356_k75.bam -o sorted_bwa_aln_reps_unitigs_SRR11015356_k75.bam\n",
    "samtools index sorted_bwa_aln_reps_unitigs_SRR11015356_k75.bam\n",
    "samtools depth sorted_bwa_aln_reps_unitigs_SRR11015356_k75.bam > sorted_bwa_aln_reps_unitigs_SRR11015356_k75.bam.cov\n",
    "cat sorted_bwa_aln_reps_unitigs_SRR11015356_k75.bam.cov | awk -F'\\t' '{print $3}' | sort -n | uniq -c > sorted_bwa_aln_reps_unitigs_SRR11015356_k75.bam.cov.hist\n",
    "```"
   ]
  },
  {
   "cell_type": "markdown",
   "metadata": {},
   "source": [
    "```bash\n",
    "paste sorted_bwa_aln_reps_unitigs_SRR11015356_k75.bam.cov.hist sorted_bwa_mem_aln.bam.cov.hist\n",
    "```"
   ]
  }
 ],
 "metadata": {
  "kernelspec": {
   "display_name": "Python 3",
   "language": "python",
   "name": "python3"
  },
  "language_info": {
   "codemirror_mode": {
    "name": "ipython",
    "version": 3
   },
   "file_extension": ".py",
   "mimetype": "text/x-python",
   "name": "python",
   "nbconvert_exporter": "python",
   "pygments_lexer": "ipython3",
   "version": "3.6.9"
  }
 },
 "nbformat": 4,
 "nbformat_minor": 2
}
