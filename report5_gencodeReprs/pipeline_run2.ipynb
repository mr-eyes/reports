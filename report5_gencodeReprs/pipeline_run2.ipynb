{
 "cells": [
  {
   "cell_type": "markdown",
   "metadata": {},
   "source": [
    "# **Pipeline run 2**"
   ]
  },
  {
   "cell_type": "markdown",
   "metadata": {},
   "source": [
    "## **cDBGs Generations**"
   ]
  },
  {
   "cell_type": "markdown",
   "metadata": {},
   "source": [
    "```bash\n",
    "# exit when any command fails\n",
    "set -e\n",
    "\n",
    "# keep track of the last executed command\n",
    "trap 'last_command=$current_command; current_command=$BASH_COMMAND' DEBUG\n",
    "# echo an error message before exiting\n",
    "trap 'echo \"\\\"${last_command}\\\" command filed with exit code $?.\"' EXIT\n",
    "\n",
    "start=`date +%s`\n",
    "\n",
    "\n",
    "DATA_DIR=/home/mabuelanin/Desktop/kexpression_experiment/symbolic/data/drtamer_data\n",
    "\n",
    "echo \"Generating cDBG for raw reads (two files) with k=25\"\n",
    "/usr/bin/time -v bcalm -kmer-size 25 -max-memory 12000 -out SRR11015356_before_k25 -in list_reads &> bcalm_before_25.log\n",
    "\n",
    "echo \"Generating cDBG for raw reads (two files) with k=75\"\n",
    "/usr/bin/time -v bcalm -kmer-size 75 -max-memory 12000 -out SRR11015356_before_k75 -in list_reads &> bcalm_before_75.log\n",
    "\n",
    "echo \"CD-HIT-EST Clustering for SRR11015356_before_k75\"\n",
    "/usr/bin/time -v cd-hit-est -i SRR11015356_before_k75.unitigs.fa -n 11 -c 0.95 -o clusters_SRR11015356_before_k75 -d 0 -T 0 -M 12000 &> cdhit_SRR11015356_before_k75.log\n",
    "echo \"Exporting representative sequences only from the CDHIT*clst and for SRR11015356_before_k75.unitigs.fa ...\"\n",
    "\n",
    "cat clusters_SRR11015356_before_k75.clstr | grep \"\\*\" | awk -F\"[>.]\" '{print \">\"$2}' | grep -Fwf - -A1 <(seqkit seq -w 0 SRR11015356_before_k75.unitigs.fa) | grep -v \"^\\-\\-\" > reps_unitigs_SRR11015356_before_k75.fa\n",
    "\n",
    "echo \"Creating cDBG for reps_unitigs_SRR11015356_before_k75.fa with k=25\"\n",
    "/usr/bin/time -v bcalm -kmer-size 25 -max-memory 12000 -out reps_unitigs_SRR11015356_before_k75_after_k25.fa -in reps_unitigs_SRR11015356_before_k75.fa  -abundance-min 1 &> bcalm_before_75_after_25.log\n",
    "\n",
    "echo \"Creating cDBG for reps_unitigs_SRR11015356_before_k75.fa with k=75\"\n",
    "/usr/bin/time -v bcalm -kmer-size 75 -max-memory 12000 -out reps_unitigs_SRR11015356_before_k75_after_k75.fa -in reps_unitigs_SRR11015356_before_k75.fa  -abundance-min 1 &> bcalm_before_75_after_75.log\n",
    "\n",
    "\n",
    "end=`date +%s`\n",
    "\n",
    "runtime=$((end-start))\n",
    "\n",
    "echo \"DONE SUCCESSFULLY in ${runtime}\"\n",
    "\n",
    "```"
   ]
  },
  {
   "cell_type": "markdown",
   "metadata": {},
   "source": [
    "## **Coverage calculations**"
   ]
  },
  {
   "cell_type": "markdown",
   "metadata": {},
   "source": [
    "```bash\n",
    "<<NOTES\n",
    "- https://www.biostars.org/p/262240/#262362\n",
    "\n",
    "- Bowtie2, on the other hand, is designed to map reads continuously to the indexed reference.\n",
    "  It just happens to be particularly good at dealing with multi-mapping reads, which is why people like using it to align to the transcriptome.\n",
    "\n",
    "However, if you're interested in doing quantification with a known transcriptome in a generally well-annotated organism like mouse, \n",
    "I'd recommend doing quantification of the transcripts directly (e.g. using Salmon). \n",
    "If you then want to do DE, this can be followed with something like tximport to get results into your favorite DE tool (e.g. DESeq2, EdgeR, limma-voom).\n",
    "NOTES\n",
    "\n",
    "# exit when any command fails\n",
    "set -e\n",
    "\n",
    "# keep track of the last executed command\n",
    "trap 'last_command=$current_command; current_command=$BASH_COMMAND' DEBUG\n",
    "# echo an error message before exiting\n",
    "trap 'echo \"\\\"${last_command}\\\" command filed with exit code $?.\"' EXIT\n",
    "\n",
    "## ----------------------------------------------------\n",
    "\n",
    "# 1. Aligning the \"reps_unitigs_SRR11015356_before_k75.fa\" on the \"extractedGTF_gencode.v33.transcripts.fa\"\n",
    "\n",
    "## 1.1 Indexing \n",
    "#bowtie2-build /home/mabuelanin/Desktop/kexpression_experiment/symbolic/reports/report5_gencodeReprs/extractedGTF_gencode.v33.transcripts.fa bowtie2_extractedGTF_gencode.v33.transcripts\n",
    "#samtools faidx /home/mabuelanin/Desktop/kexpression_experiment/symbolic/reports/report5_gencodeReprs/extractedGTF_gencode.v33.transcripts.fa # Important for IGV Visualization\n",
    "\n",
    "## 1.1 Aligning\n",
    "bowtie2 -x bowtie2_extractedGTF_gencode.v33.transcripts -f reps_unitigs_SRR11015356_before_k75.fa -S bowtie2_reps_unitigs_SRR11015356_before_k75.sam\n",
    "\n",
    "## 1.2 Converting to sorted BAM\n",
    "samtools view -S -b bowtie2_reps_unitigs_SRR11015356_before_k75.sam -o bowtie2_reps_unitigs_SRR11015356_before_k75.bam\n",
    "samtools sort bowtie2_reps_unitigs_SRR11015356_before_k75.bam -o sorted_bowtie2_reps_unitigs_SRR11015356_before_k75.bam\n",
    "\n",
    "## 1.3 Generating coverage histogram\n",
    "samtools index sorted_bowtie2_reps_unitigs_SRR11015356_before_k75.bam\n",
    "samtools depth sorted_bowtie2_reps_unitigs_SRR11015356_before_k75.bam > sorted_bowtie2_reps_unitigs_SRR11015356_before_k75.bam.cov\n",
    "cat sorted_bowtie2_reps_unitigs_SRR11015356_before_k75.bam.cov | awk -F'\\t' '{print $3}' | sort -n | uniq -c > sorted_bowtie2_reps_unitigs_SRR11015356_before_k75.bam.cov.hist\n",
    "\n",
    "## 1.4 [Optional] View the alignment in the terminal\n",
    "# samtools tview sorted_bowtie2_reps_unitigs_SRR11015356_before_k75.bam extractedGTF_gencode.v33.transcripts.fa\n",
    "\n",
    "## ---------------------------------------------------\n",
    "\n",
    "# 2. Aligning the \"reps_unitigs_SRR11015356_before_k75_after_k75.fa.unitigs.fa\" on the \"extractedGTF_gencode.v33.transcripts.fa\"\n",
    "\n",
    "## 2.1 Indexing [Done in step #1]\n",
    "# bowtie2-build extractedGTF_gencode.v33.transcripts.fa bowtie2_extractedGTF_gencode.v33.transcripts\n",
    "# samtools faidx extractedGTF_gencode.v33.transcripts.fa # Important for IGV Visualization\n",
    "\n",
    "\n",
    "## 2.1 Aligning\n",
    "bowtie2 -x bowtie2_extractedGTF_gencode.v33.transcripts -f reps_unitigs_SRR11015356_before_k75_after_k75.fa.unitigs.fa -S reps_unitigs_SRR11015356_before_k75_after_k25.sam\n",
    "\n",
    "\n",
    "## 2.2 Converting to sorted BAM\n",
    "samtools view -S -b reps_unitigs_SRR11015356_before_k75_after_k25.sam -o bowtie2_reps_unitigs_SRR11015356_before_k75_after_k25.bam\n",
    "samtools sort bowtie2_reps_unitigs_SRR11015356_before_k75_after_k25.bam -o sorted_bowtie2_reps_unitigs_SRR11015356_before_k75_after_k25.bam\n",
    "\n",
    "\n",
    "## 2.3 Generating coverage histogram\n",
    "samtools index sorted_bowtie2_reps_unitigs_SRR11015356_before_k75_after_k25.bam\n",
    "samtools depth sorted_bowtie2_reps_unitigs_SRR11015356_before_k75_after_k25.bam > sorted_bowtie2_reps_unitigs_SRR11015356_before_k75_after_k25.bam.cov\n",
    "cat sorted_bowtie2_reps_unitigs_SRR11015356_before_k75_after_k25.bam.cov | awk -F'\\t' '{print $3}' | sort -n | uniq -c > sorted_bowtie2_reps_unitigs_SRR11015356_before_k75_after_k25.bam.cov.hist\n",
    "\n",
    "\n",
    "## 2.4 [Optional] View the alignment in the terminal\n",
    "# samtools tview sorted_bowtie2_reps_unitigs_SRR11015356_before_k75_after_k25.bam extractedGTF_gencode.v33.transcripts.fa\n",
    "\n",
    "\n",
    "## ---------------------------------------------------\n",
    "\n",
    "# 3. Merging the two histograms\n",
    "\n",
    "paste sorted_bowtie2_reps_unitigs_SRR11015356_before_k75.bam.cov.hist sorted_bowtie2_reps_unitigs_SRR11015356_before_k75_after_k25.bam.cov.hist > before_after_cov.hist\n",
    "\n",
    "# 4. IGV Visualization\n",
    "\n",
    "## 4.1 Indexing the unitigs files\n",
    "\n",
    "\n",
    "<<ALIGN_STATS\n",
    "1.\n",
    "2528169 reads; of these:\n",
    "  2528169 (100.00%) were unpaired; of these:\n",
    "    2381769 (94.21%) aligned 0 times\n",
    "    38856 (1.54%) aligned exactly 1 time\n",
    "    107544 (4.25%) aligned >1 times\n",
    "5.79% overall alignment rate\n",
    "----\n",
    "2.\n",
    "1993007 reads; of these:\n",
    "  1993007 (100.00%) were unpaired; of these:\n",
    "    1895443 (95.10%) aligned 0 times\n",
    "    25712 (1.29%) aligned exactly 1 time\n",
    "    71852 (3.61%) aligned >1 times\n",
    "4.90% overall alignment rate\n",
    "ALIGN_STATS\n",
    "```"
   ]
  },
  {
   "cell_type": "markdown",
   "metadata": {},
   "source": [
    "## **IGV Visualization sample**\n",
    "\n",
    "- Session URL: http://tinyurl.com/rgr2hps\n",
    "- Target: extractedGTF_transcriptome\n",
    "- Track1: Before75 Unitigs\n",
    "- Track2: Before75_After75 Unitigs\n",
    "\n",
    "\n",
    "![title](igv_extracted_reps_before75_after_sample75.svg)"
   ]
  },
  {
   "cell_type": "code",
   "execution_count": 2,
   "metadata": {},
   "outputs": [
    {
     "data": {
      "text/html": [
       "\n",
       "<style>\n",
       "    div#notebook-container    { width: 95%; }\n",
       "    div#menubar-container     { width: 65%; }\n",
       "    div#maintoolbar-container { width: 99%; }\n",
       "</style>\n"
      ],
      "text/plain": [
       "<IPython.core.display.HTML object>"
      ]
     },
     "metadata": {},
     "output_type": "display_data"
    }
   ],
   "source": [
    "from IPython.display import display, HTML\n",
    "\n",
    "display(HTML(data=\"\"\"\n",
    "<style>\n",
    "    div#notebook-container    { width: 95%; }\n",
    "    div#menubar-container     { width: 65%; }\n",
    "    div#maintoolbar-container { width: 99%; }\n",
    "</style>\n",
    "\"\"\"))"
   ]
  }
 ],
 "metadata": {
  "kernelspec": {
   "display_name": "Python 3",
   "language": "python",
   "name": "python3"
  },
  "language_info": {
   "codemirror_mode": {
    "name": "ipython",
    "version": 3
   },
   "file_extension": ".py",
   "mimetype": "text/x-python",
   "name": "python",
   "nbconvert_exporter": "python",
   "pygments_lexer": "ipython3",
   "version": "3.7.4"
  }
 },
 "nbformat": 4,
 "nbformat_minor": 2
}
