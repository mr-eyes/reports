{
 "cells": [
  {
   "cell_type": "markdown",
   "metadata": {},
   "source": [
    "[View as PDF](./Bcool_report.pdf)"
   ]
  },
  {
   "cell_type": "markdown",
   "metadata": {},
   "source": [
    "# Data Source\n",
    "\n",
    "URL: https://www.encodeproject.org/experiments/ENCSR749BAG/\n",
    "\n",
    "```bash\n",
    "wget -c https://www.encodeproject.org/files/ENCFF002EZY/@@download/ENCFF002EZY.fastq.gz\n",
    "wget -c https://www.encodeproject.org/files/ENCFF002EZZ/@@download/ENCFF002EZZ.fastq.gz\n",
    "\n",
    "```"
   ]
  },
  {
   "cell_type": "markdown",
   "metadata": {},
   "source": [
    "![image.png](image1.png)"
   ]
  },
  {
   "cell_type": "markdown",
   "metadata": {},
   "source": [
    "# **Sample**"
   ]
  },
  {
   "cell_type": "code",
   "execution_count": 9,
   "metadata": {},
   "outputs": [
    {
     "name": "stdout",
     "output_type": "stream",
     "text": [
      "\u001b[1mRead1:\u001b[m\n",
      "@D2FC08P1:272:C4JVBACXX:5:1101:1415:1928 1:N:0:GTGTGT\n",
      "NACCAACAGATTGGGAAAGGATCTTTACCAATCCTAAATCAGATAGGGGACTAATATCCAATATATATAAAGAACCCAAGAAAGTGGACTCCAGAAAATCA\n",
      "+\n",
      "#1:DDDDDH;FHHIIIGGGIGIIIIIIIIIIIIIIGIIIIGIIIIIIIIIID;FHHIIIIHIIIHIIIHHIIFHHEEE=ABCCCACCCCCCCCCCCCCCCC\n",
      "\n",
      "\u001b[1m-------------\u001b[m\n",
      "\n",
      "\u001b[1mRead2:\u001b[m\n",
      "@D2FC08P1:272:C4JVBACXX:5:1101:1415:1928 2:N:0:GTGTGT\n",
      "GTTGGATCTCAGGGAAGTTTTGATTTGCATTTCCCTAATGATTAAGGATGCTGAACATTTTTTCAGGTGCTTCTCAGCCATTCAGTATTCCTAGGTGAGAA\n",
      "+\n",
      "@@BFFDFFHHHHHJEHHIGIJIEHGIIIIIJJJIII@GHGDGIGIIJEGIGHIJII@GIJJJJGHIJCHHHJIGHCCHHBFFFFFEEEEEEC>@A@ACB>:\n"
     ]
    }
   ],
   "source": [
    "%%bash\n",
    "bold=$(tput bold)\n",
    "normal=$(tput sgr0)\n",
    "echo \"${bold}Read1:${normal}\"\n",
    "zcat data/ENCFF002EZY.fastq.gz | head -n 4\n",
    "echo -e \"\\n${bold}-------------${normal}\\n\"\n",
    "echo \"${bold}Read2:${normal}\"\n",
    "zcat data/ENCFF002EZZ.fastq.gz | head -n 4"
   ]
  },
  {
   "cell_type": "markdown",
   "metadata": {},
   "source": [
    "## **Stats**"
   ]
  },
  {
   "cell_type": "code",
   "execution_count": 10,
   "metadata": {},
   "outputs": [
    {
     "name": "stdout",
     "output_type": "stream",
     "text": [
      "\u001b[1mENCFF002EZY.fastq.gz Stats:\u001b[m\n",
      "file                       format  type    num_seqs        sum_len  min_len  avg_len  max_len\n",
      "data/ENCFF002EZY.fastq.gz  FASTQ   DNA   79,763,453  8,056,108,753      101      101      101\n",
      "\u001b[1mENCFF002EZZ.fastq.gz Stats:\u001b[m\n",
      "\u001b[1mRead2:\u001b[m\n",
      "file                       format  type    num_seqs        sum_len  min_len  avg_len  max_len\n",
      "data/ENCFF002EZZ.fastq.gz  FASTQ   DNA   79,763,453  8,056,108,753      101      101      101\n"
     ]
    }
   ],
   "source": [
    "%%bash\n",
    "bold=$(tput bold)\n",
    "normal=$(tput sgr0)\n",
    "echo \"${bold}ENCFF002EZY.fastq.gz Stats:${normal}\"\n",
    "seqkit stats data/ENCFF002EZY.fastq.gz\n",
    "echo \"${bold}ENCFF002EZZ.fastq.gz Stats:${normal}\"\n",
    "seqkit stats data/ENCFF002EZZ.fastq.gz"
   ]
  },
  {
   "cell_type": "markdown",
   "metadata": {},
   "source": [
    "## Subsetting first 5m reads\n",
    "```bash\n",
    "seqkit head -n 5000000 data/ENCFF002EZY.fastq.gz | seqkit fq2fa -o ENCFF002EZY_5m.fa.gz\n",
    "seqkit head -n 5000000 data/ENCFF002EZZ.fastq.gz | seqkit fq2fa -o ENCFF002EZZ_5m.fa.gz\n",
    "```"
   ]
  },
  {
   "cell_type": "markdown",
   "metadata": {},
   "source": [
    "## **Sample Stats**"
   ]
  },
  {
   "cell_type": "code",
   "execution_count": 12,
   "metadata": {},
   "outputs": [
    {
     "name": "stdout",
     "output_type": "stream",
     "text": [
      "\u001b[1mENCFF002EZY_5m.fa.gz Stats:\u001b[m\n",
      "file                  format  type   num_seqs      sum_len  min_len  avg_len  max_len\n",
      "ENCFF002EZY_5m.fa.gz  FASTA   DNA   5,000,000  505,000,000      101      101      101\n",
      "\u001b[1mENCFF002EZZ_5m.fa.gz Stats:\u001b[m\n",
      "file                  format  type   num_seqs      sum_len  min_len  avg_len  max_len\n",
      "ENCFF002EZZ_5m.fa.gz  FASTA   DNA   5,000,000  505,000,000      101      101      101\n"
     ]
    }
   ],
   "source": [
    "%%bash\n",
    "bold=$(tput bold)\n",
    "normal=$(tput sgr0)\n",
    "echo \"${bold}ENCFF002EZY_5m.fa.gz Stats:${normal}\"\n",
    "seqkit stats ENCFF002EZY_5m.fa.gz\n",
    "echo \"${bold}ENCFF002EZZ_5m.fa.gz Stats:${normal}\"\n",
    "seqkit stats ENCFF002EZZ_5m.fa.gz"
   ]
  },
  {
   "cell_type": "code",
   "execution_count": 14,
   "metadata": {},
   "outputs": [
    {
     "name": "stdout",
     "output_type": "stream",
     "text": [
      ">D2FC08P1:272:C4JVBACXX:5:1101:1415:1928 1:N:0:GTGTGT\n",
      ">D2FC08P1:272:C4JVBACXX:5:1101:1397:1937 1:N:0:GTGTGT\n",
      ">D2FC08P1:272:C4JVBACXX:5:1101:1462:1954 1:N:0:GTGTGT\n",
      ">D2FC08P1:272:C4JVBACXX:5:1101:1495:1984 1:N:0:GTGTGT\n",
      ">D2FC08P1:272:C4JVBACXX:5:1101:1708:1900 1:N:0:GTGTGT\n",
      ">D2FC08P1:272:C4JVBACXX:5:1101:1745:1902 1:N:0:GTGTGT\n",
      ">D2FC08P1:272:C4JVBACXX:5:1101:1608:1912 1:N:0:GTGTGT\n",
      ">D2FC08P1:272:C4JVBACXX:5:1101:1670:1917 1:N:0:GTGTGT\n",
      ">D2FC08P1:272:C4JVBACXX:5:1101:1711:1919 1:N:0:GTGTGT\n",
      ">D2FC08P1:272:C4JVBACXX:5:1101:1528:1940 1:N:0:GTGTGT\n",
      "\n",
      "--------------\n",
      "\n",
      ">D2FC08P1:272:C4JVBACXX:5:1101:1415:1928 2:N:0:GTGTGT\n",
      ">D2FC08P1:272:C4JVBACXX:5:1101:1397:1937 2:N:0:GTGTGT\n",
      ">D2FC08P1:272:C4JVBACXX:5:1101:1462:1954 2:N:0:GTGTGT\n",
      ">D2FC08P1:272:C4JVBACXX:5:1101:1495:1984 2:N:0:GTGTGT\n",
      ">D2FC08P1:272:C4JVBACXX:5:1101:1708:1900 2:N:0:GTGTGT\n",
      ">D2FC08P1:272:C4JVBACXX:5:1101:1745:1902 2:N:0:GTGTGT\n",
      ">D2FC08P1:272:C4JVBACXX:5:1101:1608:1912 2:N:0:GTGTGT\n",
      ">D2FC08P1:272:C4JVBACXX:5:1101:1670:1917 2:N:0:GTGTGT\n",
      ">D2FC08P1:272:C4JVBACXX:5:1101:1711:1919 2:N:0:GTGTGT\n",
      ">D2FC08P1:272:C4JVBACXX:5:1101:1528:1940 2:N:0:GTGTGT\n"
     ]
    }
   ],
   "source": [
    "%%bash\n",
    "zcat ENCFF002EZY_5m.fa.gz | grep \">\" | head\n",
    "echo -e \"\\n--------------\\n\"\n",
    "zcat ENCFF002EZZ_5m.fa.gz | grep \">\" | head"
   ]
  },
  {
   "cell_type": "markdown",
   "metadata": {},
   "source": [
    "---"
   ]
  },
  {
   "cell_type": "markdown",
   "metadata": {},
   "source": [
    "---"
   ]
  },
  {
   "cell_type": "markdown",
   "metadata": {},
   "source": [
    "---"
   ]
  },
  {
   "cell_type": "markdown",
   "metadata": {},
   "source": [
    "# **BCoooooool**\n",
    "```bash\n",
    "conda install -c bioconda -y bcool\n",
    "```"
   ]
  },
  {
   "cell_type": "markdown",
   "metadata": {},
   "source": [
    "## **RUN #1** <span style=\"color:blue;\"><b>(k=25)</b></span>\n",
    "\n",
    "```bash\n",
    "bcool -u merged_ENCFF002EZ_5m.fa -t 4 -k 25 -d 1 -o bcool_k25\n",
    "```\n",
    "\n",
    "- **Corrected reads:** <span style=\"color:red;\"><b>291,098</b></span>\n",
    "---\n",
    "- **Connected components (<span style=\"color:purple\"><b><u><font size=\"3\">original reads</font></u></b></span>  <span style=\"color:blue;\"><b>k25</b></span>):**\n",
    "    - **Steps**:\n",
    "\n",
    "        - ```bash\n",
    "        bcalm -kmer-size 25 -in original_reads.fa -max-memory 10000 -out-dir cDBG_k25\n",
    "        python convertToGFA.py original_reads.unitigs.fa original_reads_k25.GFA 25\n",
    "        Bandage info original_reads_k25.GFA\n",
    "        ```\n",
    "        \n",
    "        - **Connected components:**             <span style=\"color:red;\"><b>649,720</b></span>\n",
    "        - **Largest component (bp):**            <span style=\"color:red;\"><b>25,693,553</b></span>\n",
    "    - **Bandage**:\n",
    "        - ```js\n",
    "        Connected components:             649,720\n",
    "        Node count:                       1523382\n",
    "        Edge count:                       1120807\n",
    "        Smallest edge overlap (bp):       24\n",
    "        Largest edge overlap (bp):        24\n",
    "        Total length (bp):                108346839\n",
    "        Total length no overlaps (bp):    86571039\n",
    "        Dead ends:                        1616226\n",
    "        Percentage dead ends:             53.0473%\n",
    "        Largest component (bp):           25693553\n",
    "        Total length orphaned nodes (bp): 25693553\n",
    "        N50 (bp):                         101\n",
    "        Shortest node (bp):               25\n",
    "        Lower quartile node (bp):         28\n",
    "        Median node (bp):                 49\n",
    "        Upper quartile node (bp):         101\n",
    "        Longest node (bp):                2483\n",
    "        Median depth:                     2.28713\n",
    "        Estimated sequence length (bp):   208933724\n",
    "        ```\n",
    "        \n",
    "        <hr>\n",
    "        <hr>\n",
    "    - **Connected components (<span style=\"color:purple\"><b><u><font size=\"3\">Corrected reads</font></u></b></span>  <span style=\"color:blue;\"><b>k25</b></span>):**\n",
    "    - **Steps**:\n",
    "\n",
    "        - ```bash\n",
    "        bcalm -kmer-size 25 -in reads_corrected.fa -max-memory 10000\n",
    "        python convertToGFA.py reads_corrected.unitigs.fa reads_corrected_k25.GFA 25\n",
    "        Bandage info reads_corrected_k25.GFA\n",
    "        ```\n",
    "        \n",
    "        - **Connected components:**             <span style=\"color:red;\"><b>646,104</b></span>\n",
    "        - **Largest component (bp):**            <span style=\"color:red;\"><b>23,549,930</b></span>\n",
    "    - **Bandage**:\n",
    "        - ```js\n",
    "        Node count:                       1426893\n",
    "        Edge count:                       979372\n",
    "        Smallest edge overlap (bp):       24\n",
    "        Largest edge overlap (bp):        24\n",
    "        Total length (bp):                105362219\n",
    "        Total length no overlaps (bp):    85815059\n",
    "        Dead ends:                        1577628\n",
    "        Percentage dead ends:             55.2819%\n",
    "        Connected components:             646104\n",
    "        Largest component (bp):           23549930\n",
    "        Total length orphaned nodes (bp): 23549930\n",
    "        N50 (bp):                         101\n",
    "        Shortest node (bp):               25\n",
    "        Lower quartile node (bp):         28\n",
    "        Median node (bp):                 49\n",
    "        Upper quartile node (bp):         101\n",
    "        Longest node (bp):                2988\n",
    "        Median depth:                     2.28713\n",
    "        Estimated sequence length (bp):   221191836\n",
    "        ```\n",
    "        "
   ]
  },
  {
   "cell_type": "markdown",
   "metadata": {},
   "source": [
    "---\n",
    "---"
   ]
  },
  {
   "cell_type": "markdown",
   "metadata": {},
   "source": [
    "---\n",
    "---"
   ]
  },
  {
   "cell_type": "markdown",
   "metadata": {},
   "source": [
    "## **RUN #2** <span style=\"color:blue;\"><b>(k=21)</b></span>\n",
    "\n",
    "```bash\n",
    "bcool -u merged_ENCFF002EZ_5m.fa -t 4 -k 21 -d 1 -o bcool_k21\n",
    "```\n",
    "\n",
    "- **Corrected reads:** <span style=\"color:red;\"><b>348,434</b></span>\n",
    "- **Connected components (<span style=\"color:purple\"><b><u><font size=\"3\">original reads</font></u></b></span>  <span style=\"color:blue;\"><b>k21</b></span>):**\n",
    "    - **Steps**:\n",
    "\n",
    "        - ```bash\n",
    "        bcalm -kmer-size 21 -in original_reads.fa -max-memory 10000\n",
    "        python ../convertToGFA.py original_reads.unitigs.fa original_reads_k21.GFA 21\n",
    "        Bandage info original_reads_k21.GFA\n",
    "        ```\n",
    "        \n",
    "        - **Connected components:**             <span style=\"color:red;\"><b>601,411</b></span>\n",
    "        - **Largest component (bp):**            <span style=\"color:red;\"><b>46,548,499</b></span>\n",
    "    - **Bandage**:\n",
    "        - ```js\n",
    "        Node count:                       1910042\n",
    "        Edge count:                       1798172\n",
    "        Smallest edge overlap (bp):       20\n",
    "        Largest edge overlap (bp):        20\n",
    "        Total length (bp):                112074285\n",
    "        Total length no overlaps (bp):    85242325\n",
    "        Dead ends:                        1653651\n",
    "        Percentage dead ends:             43.2883%\n",
    "        Connected components:             601411\n",
    "        Largest component (bp):           46548499\n",
    "        Total length orphaned nodes (bp): 46548499\n",
    "        N50 (bp):                         101\n",
    "        Shortest node (bp):               21\n",
    "        Lower quartile node (bp):         22\n",
    "        Median node (bp):                 34\n",
    "        Upper quartile node (bp):         91\n",
    "        Longest node (bp):                2479\n",
    "        Median depth:                     2.35\n",
    "        Estimated sequence length (bp):   213631714\n",
    "        ```\n",
    "        \n",
    "        <hr>\n",
    "        <hr>\n",
    "    - **Connected components (<span style=\"color:purple\"><b><u><font size=\"3\">Corrected reads</font></u></b></span>  <span style=\"color:blue;\"><b>k21</b></span>):**\n",
    "    - **Steps**:\n",
    "\n",
    "        - ```bash\n",
    "        bcalm -kmer-size 21 -in reads_corrected.fa -max-memory 10000\n",
    "        python convertToGFA.py reads_corrected.unitigs.fa reads_corrected_k21.GFA 21\n",
    "        Bandage info reads_corrected_k21.GFA\n",
    "        ```\n",
    "        \n",
    "        - **Connected components:**             <span style=\"color:red;\"><b>597,025</b></span>\n",
    "        - **Largest component (bp):**            <span style=\"color:red;\"><b>43,406,980</b></span>\n",
    "    - **Bandage**:\n",
    "        - ```js\n",
    "        Node count:                       1783239\n",
    "        Edge count:                       1615510\n",
    "        Smallest edge overlap (bp):       20\n",
    "        Largest edge overlap (bp):        20\n",
    "        Total length (bp):                108809811\n",
    "        Total length no overlaps (bp):    84424811\n",
    "        Dead ends:                        1606712\n",
    "        Percentage dead ends:             45.0504%\n",
    "        Connected components:             597025\n",
    "        Largest component (bp):           43406980\n",
    "        Total length orphaned nodes (bp): 43406980\n",
    "        N50 (bp):                         101\n",
    "        Shortest node (bp):               21\n",
    "        Lower quartile node (bp):         22\n",
    "        Median node (bp):                 36\n",
    "        Upper quartile node (bp):         99\n",
    "        Longest node (bp):                2479\n",
    "        Median depth:                     2.37342\n",
    "        Estimated sequence length (bp):   226854509\n",
    "        ```\n",
    "        "
   ]
  },
  {
   "cell_type": "markdown",
   "metadata": {},
   "source": [
    "## **RUN #3** <span style=\"color:blue;\"><b>(k=91  = 101-10)</b></span> <h2 style=\"color:green\"><b><u>PROMISING</u></b></h2>\n",
    "\n",
    "```bash\n",
    "bcool -u merged_ENCFF002EZ_5m.fa -t 4 -k 91 -d 1 -o bcool_k91\n",
    "```\n",
    "\n",
    "- **Corrected reads:** <span style=\"color:red;\"><b> <u> 228,914 </u> </b></span>\n",
    "- **Connected components (<span style=\"color:purple\"><b><u><font size=\"3\">original reads</font></u></b></span>  <span style=\"color:blue;\"><b>k91</b></span>):**\n",
    "    - **Steps**:\n",
    "\n",
    "        - ```bash\n",
    "        bcalm -kmer-size 91 -in original_reads.fa -max-memory 10000\n",
    "        python convertToGFA.py original_reads.unitigs.fa original_reads_k91.GFA 91\n",
    "        Bandage info original_reads_k91.GFA\n",
    "        ```\n",
    "        \n",
    "        - **Connected components:**             <span style=\"color:red;\"><b>1,214,311</b></span>\n",
    "        - **Largest component (bp):**            <span style=\"color:red;\"><b>478,977</b></span>\n",
    "    - **Bandage**:\n",
    "        - ```js\n",
    "        Node count:                       1307157\n",
    "        Edge count:                       96392\n",
    "        Smallest edge overlap (bp):       90\n",
    "        Largest edge overlap (bp):        90\n",
    "        Total length (bp):                133631258\n",
    "        Total length no overlaps (bp):    123270998\n",
    "        Dead ends:                        2477639\n",
    "        Percentage dead ends:             94.7721%\n",
    "        Connected components:             1214311\n",
    "        Largest component (bp):           478977\n",
    "        Total length orphaned nodes (bp): 478977\n",
    "        N50 (bp):                         101\n",
    "        Shortest node (bp):               91\n",
    "        Lower quartile node (bp):         101\n",
    "        Median node (bp):                 101\n",
    "        Upper quartile node (bp):         101\n",
    "        Longest node (bp):                657\n",
    "        Median depth:                     0.267327\n",
    "        Estimated sequence length (bp):   230522548\n",
    "        ```\n",
    "        <hr>\n",
    "        <hr>\n",
    "    - **Connected components (<span style=\"color:purple\"><b><u><font size=\"3\">Corrected reads</font></u></b></span>  <span style=\"color:blue;\"><b>k91</b></span>):**\n",
    "    - **Steps**:\n",
    "\n",
    "        - ```bash\n",
    "        bcalm -kmer-size 91 -in reads_corrected.fa -max-memory 10000\n",
    "        python convertToGFA.py reads_corrected.unitigs.fa reads_corrected_k91.GFA 91\n",
    "        Bandage info reads_corrected_k91.GFA\n",
    "        ```\n",
    "        \n",
    "        - **Connected components:**             <span style=\"color:red;\"><b>1,201,258</b></span>\n",
    "        - **Largest component (bp):**            <span style=\"color:red;\"><b>116,657</b></span>\n",
    "    - **Bandage**:\n",
    "        - ```js\n",
    "        Node count:                       1276295\n",
    "        Edge count:                       75895\n",
    "        Smallest edge overlap (bp):       90\n",
    "        Largest edge overlap (bp):        90\n",
    "        Total length (bp):                130680244\n",
    "        Total length no overlaps (bp):    121932604\n",
    "        Dead ends:                        2440951\n",
    "        Percentage dead ends:             95.6264%\n",
    "        Connected components:             1201258\n",
    "        Largest component (bp):           116657\n",
    "        Total length orphaned nodes (bp): 116657\n",
    "        N50 (bp):                         101\n",
    "        Shortest node (bp):               91\n",
    "        Lower quartile node (bp):         101\n",
    "        Median node (bp):                 101\n",
    "        Upper quartile node (bp):         101\n",
    "        Longest node (bp):                5462\n",
    "        Median depth:                     0.271845\n",
    "        Estimated sequence length (bp):   251704280\n",
    "        ```\n",
    "        "
   ]
  },
  {
   "cell_type": "markdown",
   "metadata": {},
   "source": [
    "# Summary"
   ]
  },
  {
   "cell_type": "markdown",
   "metadata": {},
   "source": []
  }
 ],
 "metadata": {
  "kernelspec": {
   "display_name": "Python 3",
   "language": "python",
   "name": "python3"
  },
  "language_info": {
   "codemirror_mode": {
    "name": "ipython",
    "version": 3
   },
   "file_extension": ".py",
   "mimetype": "text/x-python",
   "name": "python",
   "nbconvert_exporter": "python",
   "pygments_lexer": "ipython3",
   "version": "3.7.4"
  }
 },
 "nbformat": 4,
 "nbformat_minor": 4
}
