{
 "cells": [
  {
   "cell_type": "markdown",
   "metadata": {},
   "source": [
    "## Data"
   ]
  },
  {
   "cell_type": "markdown",
   "metadata": {},
   "source": [
    "### Downloading & Dumping\n",
    "\n",
    "```bash\n",
    "wget -c https://sra-download.ncbi.nlm.nih.gov/traces/sra51/SRR/010757/SRR11015356\n",
    "\n",
    "fastq-dump --fasta 0 --split-files SRR11015356.sra\n",
    "```"
   ]
  },
  {
   "cell_type": "markdown",
   "metadata": {},
   "source": [
    "### Creating cDBG of the \"SRR11015356_1.fasta\" and \"SRR11015356_2.fasta\"\n",
    "\n",
    "- #### create cDBG and GFAs for kmer sizes 25 and 75\n",
    "\n",
    "    ```bash\n",
    "    ls -1 *fasta > list_reads\n",
    "    bcalm -kmer-size 25 -max-memory 12000 -out SRR11015356_k25 -in list_reads\n",
    "    bcalm -kmer-size 75 -max-memory 12000 -out SRR11015356_k75 -in list_reads\n",
    "    python convertToGFA.py SRR11015356_k25.unitigs.fa SRR11015356_k25.GFA 25\n",
    "    python convertToGFA.py SRR11015356_k75.unitigs.fa SRR11015356_k75.GFA 75\n",
    "    ```\n",
    "- #### Indexing the *GFA files using [odgi](https://github.com/vgteam/odgi) tool to reduce the GFA size. (removing the redundant edges)\n",
    "    - **Indexing**\n",
    "        ```bash\n",
    "        odgi build -g SRR11015356_k75.GFA -G > reduced_SRR11015356_k75.GFA \n",
    "        odgi build -g SRR11015356_k25.GFA -G > reduced_SRR11015356_k25.GFA\n",
    "      ```\n",
    "    - **Stats**: Odgi graph reduction effect (Nodes number still the same)        \n",
    "        - `grep \"^L\" SRR11015356_k75.GFA | wc -l` : 24099578\n",
    "        - `grep \"^L\" reduced_SRR11015356_k75.GFA | wc -l` : 12050926 Links\n",
    "    - **Generate connected components**:\n",
    "        - ```bash\n",
    "            python gfa_to_connected_components.py reduced_SRR11015356_k75.GFA\n",
    "            python gfa_to_connected_components.py reduced_SRR11015356_k25.GFA\n",
    "          ```\n",
    "        - "
   ]
  },
  {
   "cell_type": "markdown",
   "metadata": {},
   "source": [
    "### CDHIT Clustering and cDBG of representitive sequences\n",
    "    \n",
    "1. Clustering \n",
    "    ```bash\n",
    "    cd-hit-est -i SRR11015356_k75.unitigs.fa -n 11 -c 0.95 -o clusters_SRR11015356 -d 0 -T 0 -M 12000\n",
    "      ```\n",
    "2. Exporting representative sequences only from the unitigs.fa files for **Only k=75**\n",
    "    ```bash\n",
    "    cat clusters_SRR11015356.clstr | grep \"\\*\" | awk -F\"[>.]\" '{print \">\"$2}' | grep -Fwf - -A1 <(seqkit seq -w 0 SRR11015356_k75.unitigs.fa) | grep -v \"^\\-\\-\" > reps_unitigs_SRR11015356_k75.fa\n",
    "    ```\n",
    "3. Constructing **cDBG k=25|k=75** for the representative sequences for the representative sequences **k=75**\n",
    "    ```bash\n",
    "    bcalm -kmer-size 25 -max-memory 12000 -out reps_unitigs_SRR11015356_beforek75_afterk25.fa -in reps_unitigs_SRR11015356_k75.fa  -abundance-min 1\n",
    "    bcalm -kmer-size 75 -max-memory 12000 -out reps_unitigs_SRR11015356_beforek75_afterk75.fa -in reps_unitigs_SRR11015356_k75.fa  -abundance-min 1\n",
    "    ```\n",
    "4. Converting unitigs in step `3` to GFAs\n",
    "    ```bash\n",
    "    python convertToGFA.py reps_unitigs_SRR11015356_beforek75_afterk25.fa.unitigs.fa reps_unitigs_SRR11015356_beforek75_afterk25.GFA 25\n",
    "    python convertToGFA.py reps_unitigs_SRR11015356_beforek75_afterk75.fa.unitigs.fa reps_unitigs_SRR11015356_beforek75_afterk75.GFA 75\n",
    "    ```"
   ]
  },
  {
   "cell_type": "markdown",
   "metadata": {},
   "source": [
    "### Subset 100k reads from the raw `SRR11015356_1` fasta file\n",
    "```bash\n",
    "head -n 200000 SRR11015356_1.fasta > 100ksubset_SRR11015356_1.fasta\n",
    "```"
   ]
  },
  {
   "cell_type": "markdown",
   "metadata": {},
   "source": [
    "### MMseqs2 searching\n",
    "\n",
    "1. Create MMseqs DB for `reps_unitigs_SRR11015356_beforek75_afterk75` unitigs file\n",
    "   ```bash\n",
    "    mmseqs createdb reps_unitigs_SRR11015356_beforek75_afterk75.fa.unitigs.fa DBreps_unitigs_SRR11015356_beforek75_afterk75\n",
    "   ```\n",
    "2. Create MMseqs DBs for `100ksubset_SRR11015356_1` query reads file \n",
    "    ```bash\n",
    "    mmseqs createdb 100ksubset_SRR11015356_1.fasta 100kqueryDB\n",
    "    ```\n",
    "3. Search by *nt sequences mode* \n",
    "    ```bash\n",
    "    mmseqs search DBreps_unitigs_SRR11015356_beforek75_afterk75 100kqueryDB aln_res tmp --add-self-matches 1 -s 7 -a --search-type 3\n",
    "    ```\n",
    "4. Convert the search result *aln_res* to TSV format\n",
    "    ```bash\n",
    "    mmseqs convertalis 100kqueryDB DBreps_unitigs_SRR11015356_beforek75_afterk75 aln_res2 result2.m8\n",
    "    ```\n"
   ]
  },
  {
   "cell_type": "markdown",
   "metadata": {},
   "source": [
    "### Transform MMseqs TSV to get the best hits\n",
    "```bash\n",
    "python transform_m8.py result2.m8 > transformed_result2.tsv\n",
    "```"
   ]
  }
 ],
 "metadata": {
  "kernelspec": {
   "display_name": "Python 3",
   "language": "python",
   "name": "python3"
  },
  "language_info": {
   "codemirror_mode": {
    "name": "ipython",
    "version": 3
   },
   "file_extension": ".py",
   "mimetype": "text/x-python",
   "name": "python",
   "nbconvert_exporter": "python",
   "pygments_lexer": "ipython3",
   "version": "3.6.9"
  }
 },
 "nbformat": 4,
 "nbformat_minor": 2
}
