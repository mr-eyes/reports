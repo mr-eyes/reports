{
 "cells": [
  {
   "cell_type": "markdown",
   "metadata": {},
   "source": [
    "## Data"
   ]
  },
  {
   "cell_type": "markdown",
   "metadata": {},
   "source": [
    "```bash\n",
    "wget -c https://sra-download.ncbi.nlm.nih.gov/traces/sra51/SRR/010757/SRR11015356\n",
    "\n",
    "fastq-dump --fasta 0 --split-files SRR11015356.sra\n",
    "\n",
    "ls -1 *fasta > list_reads\n",
    "\n",
    "bcalm -kmer-size 25 -max-memory 12000 -out SRR11015356_k25 -in list_reads\n",
    "bcalm -kmer-size 75 -max-memory 12000 -out SRR11015356_k75 -in list_reads\n",
    "\n",
    "python convertToGFA.py SRR11015356_k25.unitigs.fa SRR11015356_k25.GFA 25\n",
    "python convertToGFA.py SRR11015356_k75.unitigs.fa SRR11015356_k75.GFA 75\n",
    "\n",
    "odgi build -g SRR11015356_k25.GFA -G > reduced_SRR11015356_k25.GFA\n",
    "odgi build -g SRR11015356_k75.GFA -G > reduced_SRR11015356_k75.GFA\n",
    "\n",
    "python gfa_to_connected_components.py reduced_SRR11015356_k75.GFA\n",
    "python gfa_to_connected_components.py reduced_SRR11015356_k25.GFA\n",
    "\n",
    "```"
   ]
  }
 ],
 "metadata": {
  "kernelspec": {
   "display_name": "Python 3",
   "language": "python",
   "name": "python3"
  },
  "language_info": {
   "codemirror_mode": {
    "name": "ipython",
    "version": 3
   },
   "file_extension": ".py",
   "mimetype": "text/x-python",
   "name": "python",
   "nbconvert_exporter": "python",
   "pygments_lexer": "ipython3",
   "version": "3.6.9"
  }
 },
 "nbformat": 4,
 "nbformat_minor": 2
}
